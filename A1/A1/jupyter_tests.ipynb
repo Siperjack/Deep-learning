{
 "cells": [
  {
   "cell_type": "code",
   "execution_count": 24,
   "metadata": {},
   "outputs": [],
   "source": [
    "import imageGenerator\n",
    "import numpy as np\n",
    "import matplotlib.pyplot as plt"
   ]
  },
  {
   "cell_type": "code",
   "execution_count": 25,
   "metadata": {},
   "outputs": [],
   "source": [
    "def pictureGenerator(n, samplesize):\n",
    "    solutions = np.random.randint(0,3, samplesize)\n",
    "    S = np.zeros((n,n,samplesize))\n",
    "    for sample in range(samplesize):\n",
    "        if solutions[sample] == 0:\n",
    "            S[:,:,sample] = makeCircle(n)\n",
    "        if solutions[sample] == 1:\n",
    "            S[:,:,sample] = makeCross(n)\n",
    "        if solutions[sample] == 2:\n",
    "            S[:,:,sample] = makeSquare(n)\n",
    "    return S.transpose(), np.outer(solutions, np.ones(3)) #want first index to images\n",
    "\n",
    "def add_noice(S):\n",
    "    n = len(S[:,0])\n",
    "    # print(n)\n",
    "    grid_width = len(S[0,:])\n",
    "    for count, sample in enumerate(S):\n",
    "        zero_frac = grid_width*grid_width\n",
    "        ones_frac = grid_width*grid_width //10\n",
    "        ranvec = np.array([1] * ones_frac + [0] * zero_frac)\n",
    "        np.random.shuffle(ranvec)\n",
    "        rangrid = np.zeros(np.shape(sample))\n",
    "        # print(\"ranvecshape is:\", np.shape(ranvec))\n",
    "        # print(\"rangridshape is:\", np.shape(rangrid))\n",
    "        for i in range(grid_width-1):\n",
    "            rangrid[i,:] = ranvec[i*grid_width:(i+1)*grid_width]\n",
    "        # print(\"den kom hit\")\n",
    "        sample = (sample + rangrid)%2\n",
    "        S[count] = sample\n",
    "        # print(S[count])\n",
    "    return S\n",
    "\n",
    "def ImageSetFlattener(S, n, samplesize):\n",
    "\n",
    "    S_flattened = np.zeros((samplesize, n*n))\n",
    "    for i in range(samplesize):\n",
    "        S_flattened[i,:] = np.ravel(S[i,:])\n",
    "\n",
    "    return S_flattened\n",
    "\n",
    "def GenerateTestSet(n, samplesize):\n",
    "    S, sol = pictureGenerator(n, samplesize)\n",
    "    Snoice = add_noice(S)\n",
    "    S_flat_noice = ImageSetFlattener(Snoice, n, samplesize)\n",
    "    return Snoice, S_flat_noice, sol\n",
    "\n",
    "    \n",
    "\n",
    "\n",
    "def makeCircle(n):\n",
    "    grid = np.zeros((n,n))\n",
    "    r0 = n/4\n",
    "    r1 = n/3\n",
    "    for i in range(n):\n",
    "        for j in range(n):\n",
    "            if r0 < np.linalg.norm(np.array([i - n//2,j -n//2])) < r1:\n",
    "                grid[i][j] = 1\n",
    "    return grid\n",
    "\n",
    "def makeCross(n):\n",
    "    grid = np.zeros((n,n))\n",
    "    centre = np.array([n//2,n//2])\n",
    "    r1 = n/3\n",
    "    for i in range(n):\n",
    "        for j in range(n):\n",
    "            if abs(i-j) < 2:\n",
    "                grid[i][j] = 1\n",
    "            if abs(j + i - n) < 2:\n",
    "                grid[i][j] = 1\n",
    "    return grid\n",
    "\n",
    "def makeSquare(n):\n",
    "    grid = np.zeros((n,n))\n",
    "    centre = np.array([n//2,n//2])\n",
    "    grid[n//3:2*n//3,n//3:2*n//3] = 1\n",
    "    return grid\n",
    "\n",
    "# C = makeCircle(20)\n",
    "# print(C)\n",
    "\n",
    "\n"
   ]
  },
  {
   "cell_type": "code",
   "execution_count": 42,
   "metadata": {},
   "outputs": [],
   "source": [
    "nonflat_data,dataSet, dataSetSol = GenerateTestSet(20, 100)"
   ]
  },
  {
   "cell_type": "code",
   "execution_count": 50,
   "metadata": {},
   "outputs": [
    {
     "data": {
      "image/png": "[encoded data removed]",
      "text/plain": [
       "<Figure size 640x480 with 1 Axes>"
      ]
     },
     "metadata": {},
     "output_type": "display_data"
    }
   ],
   "source": [
    "### plt.figure()\n",
    "plt.imshow(nonflat_data[72], cmap = \"hot\")\n",
    "plt.show()"
   ]
  },
  {
   "cell_type": "code",
   "execution_count": null,
   "metadata": {},
   "outputs": [],
   "source": []
  }
 ],
 "metadata": {
  "kernelspec": {
   "display_name": "Python 3",
   "language": "python",
   "name": "python3"
  },
  "language_info": {
   "codemirror_mode": {
    "name": "ipython",
    "version": 3
   },
   "file_extension": ".py",
   "mimetype": "text/x-python",
   "name": "python",
   "nbconvert_exporter": "python",
   "pygments_lexer": "ipython3",
   "version": "3.8.12"
  }
 },
 "nbformat": 4,
 "nbformat_minor": 2
}
