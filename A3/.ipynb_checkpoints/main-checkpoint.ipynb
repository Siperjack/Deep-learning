{
 "cells": [
  {
   "cell_type": "code",
   "execution_count": 68,
   "id": "de871e5a-9f29-4741-bcba-ac4213df9db9",
   "metadata": {},
   "outputs": [
    {
     "data": {
      "text/plain": [
       "[]"
      ]
     },
     "execution_count": 68,
     "metadata": {},
     "output_type": "execute_result"
    }
   ],
   "source": [
    "import numpy as np\n",
    "import matplotlib.pyplot as plt\n",
    "import pandas as pd\n",
    "import tensorflow as tf\n",
    "from tensorflow import keras\n",
    "from tensorflow.keras import layers, models\n",
    "import os\n",
    "os.environ['CUDA_VISIBLE_DEVICES'] = \"0\"\n",
    "import keras.backend as K\n",
    "from ClassRNN import RNN\n",
    "import matplotlib.pyplot as plt\n",
    "import functions\n",
    "from sklearn import preprocessing\n",
    "tf.config.list_physical_devices('gpu')"
   ]
  },
  {
   "cell_type": "code",
   "execution_count": 69,
   "id": "8fe8c920-d9f1-4989-a2a5-c58e0cd53ab8",
   "metadata": {},
   "outputs": [],
   "source": [
    "class RNN:\n",
    "    def __init__(self, n_seq, n_dim, trained = False, filename = \"Test\"):\n",
    "        self.n_seq  = n_seq\n",
    "        self.n_dim = n_dim\n",
    "        self.filename = filename\n",
    "    \n",
    "    \n",
    "        Input = keras.Input(shape = (self.n_seq, self.n_dim), name='Input') # [n_batch, n_seq, n_dim]\n",
    "        print(\"input shape is: \", Input.shape)\n",
    "        \n",
    "        x = layers.LSTM(32, activation = \"relu\", return_sequences=False, name = \"LSTM_unit_1\")(Input)\n",
    "        Output = layers.Dense(1)(x) #output should be unbounded\n",
    "        \n",
    "        self.Model = models.Model(Input, Output, name='RNN')\n",
    "        \n",
    "        \n",
    "        self.optim = keras.optimizers.Adam(learning_rate = 0.0001)\n",
    "        self.loss = keras.losses.MeanSquaredError()\n",
    "        \n",
    "        self.Model.compile(optimizer = self.optim, loss = self.loss)\n",
    "        self.Model.summary()\n",
    "        self.trained = trained\n",
    "    \n",
    "    \n",
    "    def train(self, x_train, y_train, x_val, y_val, batch_size = 32, epochs = 5):\n",
    "        if not self.trained:\n",
    "            \n",
    "            self.Model.fit(\n",
    "                x_train,\n",
    "                y_train,\n",
    "                epochs = epochs,\n",
    "                shuffle = True,\n",
    "                batch_size = batch_size,\n",
    "                validation_data=(x_val, y_val)\n",
    "                )\n",
    "            \n",
    "            self.Model.save_weights(self.filename)\n",
    "            print(\"model is trained and weights saved\")\n",
    "        else:\n",
    "            print(\"model is already trained\")\n",
    "            \n",
    "    def predict(self, data):\n",
    "        return self.Model.predict(data)\n",
    "            "
   ]
  },
  {
   "cell_type": "code",
   "execution_count": 70,
   "id": "13ef8632-c807-4365-95de-807df44c090e",
   "metadata": {},
   "outputs": [],
   "source": [
    "def n_in_1_out(data, model, pred_window): #data is assumed to be of the [batch, n_seq, n_feature] format\n",
    "    start_ind = len(data) - pred_window\n",
    "    model_input = data[[start_ind]]\n",
    "    forecasts = []\n",
    "    forecast = model.predict(model_input)[0,-1]\n",
    "    forecasts.append(forecast)\n",
    "    for i in range(pred_window - 1):\n",
    "        model_input = data[[start_ind + 1 + i]]\n",
    "        #print(model_input.shape)\n",
    "        model_input[0, -1, -1] = forecasts[-1] #Last prev_y datapoint is replaced by last prediction\n",
    "        forecast = model.predict(model_input)[0,-1]\n",
    "        forecasts.append(forecast)\n",
    "    return np.array(forecasts)\n",
    "\n",
    "def smooth_third_deviation(y): #assumes burstes are distributet randomly and two are not found in a row\n",
    "    E = np.sum(y)/len(y)\n",
    "    var = np.sum((y - E)**2)\n",
    "    for i in range(len(y)):\n",
    "        if y[i] > E + 3*np.sqrt(var) or y[i] < E - 3*np.sqrt(var):\n",
    "            if i == 0:\n",
    "                y[0] = y[1]\n",
    "            elif i == len(y)-1:\n",
    "                y[-1] = y[-2]\n",
    "            else:\n",
    "                y[i] = y[i-1]/2 + y[i+1]/2\n",
    "    return y\n",
    "            \n",
    "def smooth_filter(y): #assumes burstes are distributet randomly and two are not found in a row\n",
    "    count = 0\n",
    "    for i in range(len(y)):\n",
    "        if i < 5: \n",
    "            zum = np.sum(y[0:i+5]) / (6 + i)\n",
    "        elif i > len(y) - 5:\n",
    "            zum = np.sum(y[i-5:-1]) / (6 + len(y) - i)\n",
    "        else:\n",
    "            zum = np.sum(y[i-5:i+5]) / 11\n",
    "        \n",
    "        if abs(y[i]) > 2*abs(zum):\n",
    "            y[i] = zum\n",
    "            count += 1\n",
    "    print(f\"{count/len(y)} datapoints smoothed in clamming\")\n",
    "    return y\n",
    "            \n",
    "def create_dataset(data, n_seq):\n",
    "    data, norm = preprocessing.normalize(np.asarray(data.values[:,1:]).astype(np.float32), return_norm = True, axis = 0)\n",
    "    x_data = data[:,:-1]\n",
    "    y_data = data[:,[-1]]\n",
    "    y_data = smooth_filter(y_data)\n",
    "        \n",
    "    x_data = np.concatenate((x_data[1:], y_data[:-1]), axis = 1) #Data in timestep t_i+1 uses y from t_i, could probably be done smoother in pandas\n",
    "    #x_data = np.concatenate((x_data[1:], y_data[:-1]), axis = 1) #Data in timestep t_i+1 uses y from t_i, could probably be done smoother in pandas\n",
    "    y_data = y_data[:-1]\n",
    "    print(\"normshape is\", norm.shape)\n",
    "    \n",
    "    x_list, y_list = [], []\n",
    "    \n",
    "    for i in range(len(x_data) - n_seq - 1):\n",
    "        x_list.append(x_data[i:(i+n_seq)])\n",
    "        y_list.append(y_data[(i+n_seq)])\n",
    "        \n",
    "    return np.array(x_list), np.array(y_list), norm"
   ]
  },
  {
   "cell_type": "code",
   "execution_count": 71,
   "id": "340a4e93-faad-43eb-a947-498e0de6d11d",
   "metadata": {},
   "outputs": [],
   "source": [
    "def add_features(data):\n",
    "    pass"
   ]
  },
  {
   "cell_type": "code",
   "execution_count": 72,
   "id": "06eb6574-7292-4b6d-96bf-bb95bfbc217d",
   "metadata": {},
   "outputs": [
    {
     "name": "stdout",
     "output_type": "stream",
     "text": [
      "Index(['start_time', 'hydro', 'micro', 'thermal', 'wind', 'river', 'total',\n",
      "       'y', 'sys_reg', 'flow'],\n",
      "      dtype='object')\n",
      "            start_time     hydro    micro  thermal    wind  river     total  \\\n",
      "0  2019-01-09 14:10:00  1591.839  141.928     11.5  74.428    0.0  1819.695   \n",
      "1  2019-01-09 14:15:00  1591.839  141.928     11.5  74.428    0.0  1819.695   \n",
      "2  2019-01-09 14:20:00  1591.839  141.928     11.5  74.428    0.0  1819.695   \n",
      "3  2019-01-09 14:25:00  1591.839  141.928     11.5  74.428    0.0  1819.695   \n",
      "4  2019-01-09 14:30:00  1591.839  141.928     11.5  74.428    0.0  1819.695   \n",
      "\n",
      "            y  sys_reg    flow  \n",
      "0  341.330021     10.0 -4417.4  \n",
      "1  330.114330     10.0 -4417.4  \n",
      "2  323.877221     10.0 -4417.4  \n",
      "3  296.438463     10.0 -4417.4  \n",
      "4  269.097132     10.0 -4417.4  \n"
     ]
    }
   ],
   "source": [
    "#%%Preprossesing data, and ads y_prev to inputdata\n",
    "df_train = pd.read_csv('no1_train.csv', sep=',')\n",
    "df_validation = pd.read_csv('no1_validation.csv', sep=',')\n",
    "\n",
    "test_data = df_validation.values\n",
    "attributes = df_train.columns #[0,1,2,3,4,5,6,7]\n",
    "\n",
    "print(attributes)\n",
    "print(df_train.head())\n",
    "\n",
    "        "
   ]
  },
  {
   "cell_type": "code",
   "execution_count": 73,
   "id": "6076744c-149c-46fb-8036-e4e758762555",
   "metadata": {},
   "outputs": [
    {
     "name": "stdout",
     "output_type": "stream",
     "text": [
      "0.0033098166050611316 datapoints smoothed in clamming\n",
      "normshape is (9,)\n",
      "0.002416832527722491 datapoints smoothed in clamming\n",
      "normshape is (9,)\n",
      "(224942, 144, 9)\n",
      "(224942, 1)\n",
      "(27990, 144, 9)\n",
      "y_val shape is:  (27990, 1)\n"
     ]
    }
   ],
   "source": [
    "#%%\n",
    "N_seq = 12*12 #twelve hours back in time\n",
    "x_train, y_train, train_norm = create_dataset(df_train, N_seq)\n",
    "x_val, y_val, val_norm = create_dataset(df_validation, N_seq)\n",
    "\n",
    "\n",
    "print(x_train.shape)\n",
    "print(y_train.shape)\n",
    "x_val, y_val = x_val*val_norm/train_norm, y_val*(val_norm[-1])/train_norm[-1] #use training normalizing constant for both sets\n",
    "\n",
    "print(x_val.shape)\n",
    "print(f\"y_val shape is: \", y_val.shape)"
   ]
  },
  {
   "cell_type": "code",
   "execution_count": 74,
   "id": "84ab9961-17cf-431c-bdc2-731d8efd24d7",
   "metadata": {},
   "outputs": [
    {
     "name": "stdout",
     "output_type": "stream",
     "text": [
      "input shape is:  (None, 144, 9)\n",
      "Model: \"RNN\"\n",
      "_________________________________________________________________\n",
      " Layer (type)                Output Shape              Param #   \n",
      "=================================================================\n",
      " Input (InputLayer)          [(None, 144, 9)]          0         \n",
      "                                                                 \n",
      " LSTM_unit_1 (LSTM)          (None, 32)                5376      \n",
      "                                                                 \n",
      " dense_10 (Dense)            (None, 1)                 33        \n",
      "                                                                 \n",
      "=================================================================\n",
      "Total params: 5,409\n",
      "Trainable params: 5,409\n",
      "Non-trainable params: 0\n",
      "_________________________________________________________________\n",
      "(27990, 1)\n",
      "model is already trained\n"
     ]
    }
   ],
   "source": [
    "trained = True\n",
    "model = RNN(n_seq = N_seq, n_dim = 9, filename = \"./models/LSTM32144\", trained = trained)#LSTMXXYY means X in lst parameter an Y seq_length\n",
    "print(model.predict(x_val).shape)\n",
    "model.train(x_train, y_train, x_val, y_val, epochs = 20, batch_size = 4*128)"
   ]
  },
  {
   "cell_type": "code",
   "execution_count": 75,
   "id": "cb904516-b04f-49c8-9aba-03131a8e7b1c",
   "metadata": {},
   "outputs": [
    {
     "name": "stdout",
     "output_type": "stream",
     "text": [
      "(27990, 144, 9)\n",
      "y_val shape is:  (27990, 1)\n",
      "forecast shape is:  (72,)\n",
      "(400, 1)\n"
     ]
    },
    {
     "data": {
      "text/plain": [
       "[<matplotlib.lines.Line2D at 0x7fc427dd02d0>]"
      ]
     },
     "execution_count": 75,
     "metadata": {},
     "output_type": "execute_result"
    },
    {
     "data": {
      "image/png": "[encoded data removed]",
      "text/plain": [
       "<Figure size 432x288 with 1 Axes>"
      ]
     },
     "metadata": {
      "needs_background": "light"
     },
     "output_type": "display_data"
    }
   ],
   "source": [
    "N_seq = 12#*12 #twelve hours back in time\n",
    "\n",
    "\n",
    "print(x_val.shape)\n",
    "print(f\"y_val shape is: \", y_val.shape)\n",
    "\n",
    "forecast_horizon = 24*3\n",
    "forecasts = functions.n_in_1_out(x_val, model, forecast_horizon)      \n",
    "\n",
    "print(\"forecast shape is: \", forecasts.shape)\n",
    "print(y_val[-600:-200].shape)\n",
    "full_series = np.concatenate((y_val[-600:-200,0], forecasts), axis = 0)\n",
    "plt.plot(full_series, \"r\")\n",
    "plt.plot(y_val[-600:-200 + forecast_horizon, -1], \"b\")"
   ]
  },
  {
   "cell_type": "code",
   "execution_count": null,
   "id": "0fde2c37-faba-464d-ba8b-f2c82b52095d",
   "metadata": {},
   "outputs": [],
   "source": []
  },
  {
   "cell_type": "code",
   "execution_count": null,
   "id": "528e4045-343f-43b3-9a1e-5c5bac20e29a",
   "metadata": {},
   "outputs": [],
   "source": []
  },
  {
   "cell_type": "code",
   "execution_count": null,
   "id": "cee39670-f7e8-4197-b1f9-92996df5ed4d",
   "metadata": {},
   "outputs": [],
   "source": []
  },
  {
   "cell_type": "code",
   "execution_count": null,
   "id": "0bea7e36-d932-46e4-8514-f8c54315ee57",
   "metadata": {},
   "outputs": [],
   "source": []
  }
 ],
 "metadata": {
  "environment": {
   "kernel": "python3",
   "name": "tf2-gpu.2-8.m91",
   "type": "gcloud",
   "uri": "gcr.io/deeplearning-platform-release/tf2-gpu.2-8:m91"
  },
  "kernelspec": {
   "display_name": "Python 3",
   "language": "python",
   "name": "python3"
  },
  "language_info": {
   "codemirror_mode": {
    "name": "ipython",
    "version": 3
   },
   "file_extension": ".py",
   "mimetype": "text/x-python",
   "name": "python",
   "nbconvert_exporter": "python",
   "pygments_lexer": "ipython3",
   "version": "3.7.12"
  }
 },
 "nbformat": 4,
 "nbformat_minor": 5
}
